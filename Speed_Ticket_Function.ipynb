{
 "cells": [
  {
   "cell_type": "code",
   "execution_count": 1,
   "metadata": {
    "collapsed": true
   },
   "outputs": [],
   "source": [
    "#a fucnction that gives speeding ticket to people\n",
    "#if you are running above 100km, you get 5000 ticket\n",
    "#if you are running above 120km, you get 7000 ticket\n",
    "#if you are running above 140km, you get 10000 ticket\n",
    "#however, if it is your birthday, you get a 15% discount from anything you\n",
    "#have above"
   ]
  },
  {
   "cell_type": "code",
   "execution_count": 18,
   "metadata": {},
   "outputs": [],
   "source": [
    "def speed_ticket():\n",
    "    \n",
    "    speed = int(input('my speed: '))\n",
    "    birthday = input('is today your birthday? (yes/no): ')\n",
    "    \n",
    "    if speed >= 100:\n",
    "        print('your fine ticket is 5000: ')\n",
    "        \n",
    "    elif speed >= 120:\n",
    "        print('your fine ticket is 7000: ')\n",
    "        \n",
    "    elif speed >= 140:\n",
    "        print('your fine ticket is 10000: ')\n",
    "    \n",
    "    elif birthday == 'yes':\n",
    "        print('speed * 0.85')\n",
    "    else:\n",
    "        return\n",
    "        \n",
    "    "
   ]
  },
  {
   "cell_type": "code",
   "execution_count": 19,
   "metadata": {},
   "outputs": [
    {
     "name": "stdout",
     "output_type": "stream",
     "text": [
      "my speed: 140\n",
      "is today your birthday? (yes/no): no\n",
      "your fine ticket is 5000: \n"
     ]
    }
   ],
   "source": [
    "speed_ticket()"
   ]
  },
  {
   "cell_type": "code",
   "execution_count": 21,
   "metadata": {},
   "outputs": [
    {
     "name": "stdout",
     "output_type": "stream",
     "text": [
      "my speed: 140\n",
      "is today your birthday? (yes/no): yes\n",
      "your fine ticket is 5000: \n"
     ]
    }
   ],
   "source": [
    "speed_ticket()"
   ]
  },
  {
   "cell_type": "code",
   "execution_count": null,
   "metadata": {
    "collapsed": true
   },
   "outputs": [],
   "source": []
  }
 ],
 "metadata": {
  "kernelspec": {
   "display_name": "Python 3",
   "language": "python",
   "name": "python3"
  },
  "language_info": {
   "codemirror_mode": {
    "name": "ipython",
    "version": 3
   },
   "file_extension": ".py",
   "mimetype": "text/x-python",
   "name": "python",
   "nbconvert_exporter": "python",
   "pygments_lexer": "ipython3",
   "version": "3.8.5"
  }
 },
 "nbformat": 4,
 "nbformat_minor": 2
}
